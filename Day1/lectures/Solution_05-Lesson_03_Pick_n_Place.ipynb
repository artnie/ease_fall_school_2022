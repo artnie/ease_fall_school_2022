{
 "cells": [
  {
   "cell_type": "code",
   "execution_count": 34,
   "id": "610a5372-ac65-4855-8e07-e7aabf687acf",
   "metadata": {
    "tags": []
   },
   "outputs": [
    {
     "data": {
      "text/plain": [
       "T"
      ]
     },
     "execution_count": 34,
     "metadata": {},
     "output_type": "execute_result"
    },
    {
     "data": {
      "text/plain": [
       "NIL"
      ]
     },
     "execution_count": 34,
     "metadata": {},
     "output_type": "execute_result"
    },
    {
     "data": {
      "text/plain": [
       "#<PACKAGE \"CRAM-BULLET-WORLD-TUTORIAL\">"
      ]
     },
     "execution_count": 34,
     "metadata": {},
     "output_type": "execute_result"
    },
    {
     "data": {
      "text/plain": [
       "#<PACKAGE \"CRAM-BULLET-WORLD-TUTORIAL\">"
      ]
     },
     "execution_count": 34,
     "metadata": {},
     "output_type": "execute_result"
    },
    {
     "data": {
      "text/plain": [
       "MAKE-POSE"
      ]
     },
     "execution_count": 34,
     "metadata": {},
     "output_type": "execute_result"
    },
    {
     "data": {
      "text/plain": [
       "SIMULATE"
      ]
     },
     "execution_count": 34,
     "metadata": {},
     "output_type": "execute_result"
    },
    {
     "data": {
      "text/plain": [
       "*BOTTLE-SPAWN-POSE*"
      ]
     },
     "execution_count": 34,
     "metadata": {},
     "output_type": "execute_result"
    },
    {
     "data": {
      "text/plain": [
       "*BASE-POSE-NEAR-TABLE*"
      ]
     },
     "execution_count": 34,
     "metadata": {},
     "output_type": "execute_result"
    },
    {
     "data": {
      "text/plain": [
       "*DOWNWARD-LOOK-COORDINATE*"
      ]
     },
     "execution_count": 34,
     "metadata": {},
     "output_type": "execute_result"
    },
    {
     "data": {
      "text/plain": [
       "*OBJECT-DELIVERY-POSE*"
      ]
     },
     "execution_count": 34,
     "metadata": {},
     "output_type": "execute_result"
    },
    {
     "data": {
      "text/plain": [
       "*BASE-POSE-NEAR-KITCHEN-ISLAND*"
      ]
     },
     "execution_count": 34,
     "metadata": {},
     "output_type": "execute_result"
    },
    {
     "name": "stdout",
     "output_type": "stream",
     "text": [
      "[(ROSNODE) INFO] 1664887986.474: ROS cleanup #<FUNCTION CRAM-TF::DESTROY-TF>.\n",
      "[(ROSNODE) INFO] 1664887986.474: ROS cleanup #<FUNCTION CRAM-TF::DESTROY-TF-BROADCASTER>.\n",
      "[(ROSNODE) INFO] 1664887986.475: ROS cleanup #<FUNCTION CRAM-TF::DESTROY-MARKER-PUBLISHER>.\n",
      "[(ROSNODE) INFO] 1664887986.475: ROS cleanup #<FUNCTION CRAM-BULLET-REASONING-BELIEF-STATE::DESTROY-JOINT-STATE-PUB>.\n",
      "[(ROSLISP TOP) INFO] 1664887989.982: Shutdown complete\n",
      "[(ROSLISP TOP) INFO] 1664887989.986: Node name is /cram_hl_982519_1664887989\n",
      "[(ROSLISP TOP) INFO] 1664887989.986: Namespace is /\n",
      "[(ROSLISP TOP) INFO] 1664887989.986: Params are NIL\n",
      "[(ROSLISP TOP) INFO] 1664887989.987: Remappings are:\n",
      "[(ROSLISP TOP) INFO] 1664887989.987: master URI is 127.0.0.1:11311\n",
      "[(ROSLISP TOP) INFO] 1664887990.992: Node startup complete\n",
      "[(ROSNODE) INFO] 1664887990.992: ROS init #<FUNCTION CRAM-TF::INIT-TF>.\n",
      "[(CRAM-TF INIT-TF) INFO] 1664887990.992: Set *fixed-frame* to \"map\".\n",
      "[(CRAM-TF INIT-TF) INFO] 1664887991.013: Environment name is IAI-KITCHEN.\n",
      "[(CRAM-TF INIT-TF) INFO] 1664887991.052: Initialized *transformer* to a TRANSFORM-LISTENER.\n",
      "[(CRAM-TF INIT-TF) INFO] 1664887991.053: *tf-default-timeout* is 4.0.\n",
      "[(CRAM-TF INIT-TF) INFO] 1664887991.086: Robot name is PR2.\n",
      "[(CRAM-TF INIT-TF) INFO] 1664887991.086: Set *ODOM-FRAME* to \"odom_combined\".\n",
      "[(CRAM-TF INIT-TF) INFO] 1664887991.086: Set *ROBOT-BASE-FRAME* to \"base_footprint\".\n",
      "[(CRAM-TF INIT-TF) INFO] 1664887991.086: Set *ROBOT-TORSO-FRAME* to \"torso_lift_link\".\n",
      "[(CRAM-TF INIT-TF) INFO] 1664887991.086: Set *ROBOT-TORSO-JOINT* to \"torso_lift_joint\".\n",
      "[(CRAM-TF INIT-TF) INFO] 1664887991.086: Set *ROBOT-LEFT-TOOL-FRAME* to \"l_gripper_tool_frame\".\n",
      "[(CRAM-TF INIT-TF) INFO] 1664887991.086: Set *ROBOT-RIGHT-TOOL-FRAME* to \"r_gripper_tool_frame\".\n",
      "[(ROSNODE) INFO] 1664887991.086: ROS init #<FUNCTION CRAM-TF::INIT-TF-BROADCASTER>.\n",
      "[(ROSNODE) INFO] 1664887991.087: ROS init #<FUNCTION CRAM-TF::INIT-MARKER-PUBLISHER>.\n",
      "[(ROSNODE) INFO] 1664887991.088: ROS init #<FUNCTION CRAM-LOCATION-COSTMAP::LOCATION-COSTMAP-VIS-INIT>.\n",
      "[(ROSNODE) INFO] 1664887991.090: ROS init #<FUNCTION CRAM-BULLET-REASONING-BELIEF-STATE::ROS-TIME-INIT>.\n",
      "[(ROSNODE) INFO] 1664887991.090: ROS init #<FUNCTION CRAM-OCCUPANCY-GRID-COSTMAP::INIT-OCCUPANCY-GRID-COSTMAP>.\n",
      "[(ROSNODE) INFO] 1664887991.100: ROS init #<FUNCTION CRAM-PR2-PICK-PLACE-DEMO::INIT-PROJECTION>.\n",
      "[(SET-ROBOT-STATE-FROM-TF) WARN] 1664888032.194: Failed with transform-stamped-error:\n",
      "    No transform was published between frames base_footprint and map\n",
      "    Ignore this warning if no real robot is running.\n",
      "SB-KERNEL:REDEFINITION-WITH-DEFUN: redefining CRAM-BULLET-WORLD-TUTORIAL::MAKE-POSE in DEFUN\n",
      "SB-KERNEL:REDEFINITION-WITH-DEFUN: redefining CRAM-BULLET-WORLD-TUTORIAL::SIMULATE in DEFUN\n"
     ]
    }
   ],
   "source": [
    "(asdf:load-system :cram-pr2-pick-place-demo)\n",
    "(roslisp-utilities:startup-ros)\n",
    "(defpackage cram-bullet-world-tutorial\n",
    "  (:nicknames :btw-tut)\n",
    "  (:use :common-lisp :cram-prolog :desig :exe))\n",
    "(in-package :btw-tut)\n",
    "\n",
    "(defun make-pose (frame point euler)\n",
    "    (declare (type string frame)\n",
    "             (type list point euler))\n",
    "    \"Creates a cl-transforms pose in 3D space w.r.t. the given frame, point and euler.\"\n",
    "    (if (and (eq (length point) 3) (eq (length euler) 3))\n",
    "        (destructuring-bind (ax ay az) (mapcar #'eval euler)\n",
    "          (cl-transforms-stamped:make-pose-stamped frame 0.0 \n",
    "                                                   (apply #'cl-transforms:make-3d-vector point)\n",
    "                                                   (cl-transforms:euler->quaternion :ax ax :ay ay :az az)))\n",
    "        (format T \"point ~a or euler ~a is not of length 3\" point euler)))\n",
    "\n",
    "(defun simulate (&key (duration 5.0)    ;; in seconds \n",
    "                      (framerate 20.0)) ;; in Hz\n",
    "    (let ((sleep-interval (/ 1.0 framerate))\n",
    "          (times (floor (* duration framerate))))\n",
    "         (dotimes (_ times)\n",
    "             (sleep (/ sleep-interval 2))\n",
    "             (btr:simulate btr:*current-bullet-world* (/ sleep-interval 2)))))\n",
    "\n",
    "(defparameter *bottle-spawn-pose* (make-pose \"map\" '(-2.323 -1 0.82) '(0 0 0)))\n",
    "(defparameter *base-pose-near-table* (make-pose \"map\" '(-2.2 -0.2 0.0) '(0.0 0.0 (* pi -0.5))))\n",
    "(defparameter *downward-look-coordinate* (make-pose \"base_footprint\" '(0.7 0.0 1.0) '(0 0 0)))\n",
    "(defparameter *object-delivery-pose* (make-pose \"map\" '(-0.8 2 0.9) '(0 0 0)))\n",
    "(defparameter *base-pose-near-kitchen-island* (make-pose \"map\" '(-0.15 2.0 0.0) '(0.0 0.0 pi)))"
   ]
  },
  {
   "cell_type": "code",
   "execution_count": 2,
   "id": "ec4fed6c-2942-48ee-bcdc-b05d2e47a23c",
   "metadata": {},
   "outputs": [
    {
     "data": {
      "text/plain": [
       "PICK"
      ]
     },
     "execution_count": 2,
     "metadata": {},
     "output_type": "execute_result"
    }
   ],
   "source": [
    "(defun pick (?object ?nav-goal ?poi &key ?arm)\n",
    "    (let ((?arm (if (or (listp ?arm) (not ?arm))\n",
    "                    ?arm\n",
    "                    `(,?arm)))\n",
    "          ?perceived-object)\n",
    "       (cpl:par\n",
    "             ;; Park arms\n",
    "             (perform (an action\n",
    "                          (type parking-arms)))\n",
    "             ;; Move the torso up\n",
    "             (perform (a motion \n",
    "                         (type moving-torso)\n",
    "                         (joint-angle 0.3)))\n",
    "             ;; Go to the navigation goal\n",
    "             (perform (an action\n",
    "                          (type going)\n",
    "                          (target (a location \n",
    "                                     (pose ?nav-goal))))))\n",
    "         ;; Look at the point of interest\n",
    "         (perform (an action\n",
    "                      (type looking)\n",
    "                      (target (a location \n",
    "                                 (pose ?poi)))))\n",
    "         ;; Detect the object\n",
    "         (setf ?perceived-object \n",
    "               (perform (an action\n",
    "                            (type detecting)\n",
    "                            (object ?object))))\n",
    "         ;; Pick up the detected object\n",
    "         (perform (an action\n",
    "                      (type picking-up)\n",
    "                      (desig:when ?arm\n",
    "                          (arm ?arm))\n",
    "                      (object ?perceived-object)))\n",
    "         ;; Park arms\n",
    "         (perform (an action\n",
    "                      (type parking-arms)))\n",
    "         ?perceived-object))"
   ]
  },
  {
   "cell_type": "code",
   "execution_count": 13,
   "id": "19030a7e-e0a2-431b-b50f-eb48210a2398",
   "metadata": {},
   "outputs": [
    {
     "data": {
      "text/plain": [
       "PLACE"
      ]
     },
     "execution_count": 13,
     "metadata": {},
     "output_type": "execute_result"
    },
    {
     "name": "stdout",
     "output_type": "stream",
     "text": [
      "SB-KERNEL:REDEFINITION-WITH-DEFUN: redefining CRAM-BULLET-WORLD-TUTORIAL::PLACE in DEFUN\n"
     ]
    }
   ],
   "source": [
    "(defun place (?nav-goal ?drop-pose &key ?object ?arm)\n",
    "    (let ((?arm (if (or (listp ?arm) \n",
    "                        (not ?arm))\n",
    "                    ?arm\n",
    "                    `(,?arm))))\n",
    "         ;; Move the torso up so the robot can reach the higher surface better\n",
    "         ;; without crashing his arms into it.\n",
    "         (perform (a motion \n",
    "                     (type moving-torso)\n",
    "                     (joint-angle 0.3)))\n",
    "         ;; Go to the target delivery location\n",
    "         (perform (an action\n",
    "                      (type going)\n",
    "                      (target (a location\n",
    "                                 (pose ?nav-goal)))))\n",
    "         ;; Place down the bottle\n",
    "         (perform (an action\n",
    "                      (type placing)\n",
    "                      (desig:when ?arm\n",
    "                          (arm ?arm))\n",
    "                      (desig:when ?object\n",
    "                          (object ?object))\n",
    "                      (target (a location\n",
    "                                 (pose ?drop-pose)))))\n",
    "         ;; Park arms\n",
    "         (perform (an action\n",
    "                      (type parking-arms)))))"
   ]
  },
  {
   "cell_type": "code",
   "execution_count": 35,
   "id": "71727bb7-20d0-4225-b50f-24a7533d99ae",
   "metadata": {},
   "outputs": [
    {
     "data": {
      "text/plain": [
       "*OBJECT-DELIVERY-POSE*"
      ]
     },
     "execution_count": 35,
     "metadata": {},
     "output_type": "execute_result"
    }
   ],
   "source": [
    ";(defparameter *object-delivery-pose* (make-pose \"map\" '(-0.8 2 0.9) '(0 0 0)))\n",
    "\n",
    "(defparameter *object-delivery-pose* (make-pose \"map\" '(-0.8 2 1.2) '((* 0.5 pi) (* 0.5 pi) 0.0)))\n"
   ]
  },
  {
   "cell_type": "code",
   "execution_count": 36,
   "id": "cc357ec5-c119-4f47-940b-048620815e88",
   "metadata": {
    "tags": []
   },
   "outputs": [
    {
     "data": {
      "text/plain": [
       "NIL"
      ]
     },
     "execution_count": 36,
     "metadata": {},
     "output_type": "execute_result"
    },
    {
     "data": {
      "text/plain": [
       "#<CRAM-BULLET-REASONING:ITEM {100ECFD5A3}>"
      ]
     },
     "execution_count": 36,
     "metadata": {},
     "output_type": "execute_result"
    },
    {
     "data": {
      "text/plain": [
       "NIL"
      ]
     },
     "execution_count": 36,
     "metadata": {},
     "output_type": "execute_result"
    },
    {
     "name": "stdout",
     "output_type": "stream",
     "text": [
      "[(SET-ROBOT-STATE-FROM-TF) WARN] 1664888072.266: Failed with transform-stamped-error:\n",
      "    No transform was published between frames base_footprint and map\n",
      "    Ignore this warning if no real robot is running.\n",
      "SB-INT:SIMPLE-STYLE-WARNING: The variable ?DROP-POSE is defined but never used.\n",
      "SB-INT:SIMPLE-STYLE-WARNING: The variable ?PERCEIVED-OBJECT is defined but never used.\n"
     ]
    }
   ],
   "source": [
    ";; Reset the world\n",
    "(demo::initialize)\n",
    "\n",
    ";; Spawn the bottle\n",
    "(btr-utils:spawn-object 'bottle-1 :bottle :pose *bottle-spawn-pose*)\n",
    "\n",
    "(urdf-proj:with-simulated-robot\n",
    "\n",
    " (let ((?drop-pose *object-delivery-pose*)\n",
    "       \n",
    "       ?perceived-object)\n",
    "      \n",
    "      (pick (an object (type bottle))\n",
    "            *base-pose-near-table*\n",
    "            *downward-look-coordinate*\n",
    "            :?arm :right)\n",
    "      \n",
    "      (place *base-pose-near-kitchen-island*\n",
    "             *object-delivery-pose*)))"
   ]
  },
  {
   "cell_type": "code",
   "execution_count": null,
   "id": "ee91eea8-c8da-4386-8e2d-a71e26b6085c",
   "metadata": {},
   "outputs": [],
   "source": [
    ";; Reset the world\n",
    "(demo::initialize)\n",
    "\n",
    ";; Have all parameters we need in one place.\n",
    "(defparameter *bottle-spawn-pose* (make-pose \"map\" '(-2.323 -1 0.82) '(0 0 0)))\n",
    "(defparameter *base-pose-near-table* (make-pose \"map\" '(-2.2 -0.2 0.0) '(0.0 0.0 (* pi -0.5))))\n",
    "(defparameter *downward-look-coordinate* (make-pose \"base_footprint\" '(0.7 0.0 1.0) '(0 0 0)))\n",
    "(defparameter *object-delivery-pose* (make-pose \"map\" '(-0.8 2 0.9) '(0 0 0)))\n",
    "(defparameter *base-pose-near-kitchen-island* (make-pose \"map\" '(-0.15 2.0 0.0) '(0.0 0.0 pi)))\n",
    "\n",
    ";; Spawn the bottle\n",
    "(btr-utils:spawn-object 'bottle-1 :bottle :pose *bottle-spawn-pose*)\n",
    "\n",
    "(urdf-proj:with-simulated-robot\n",
    "\n",
    " (let ((?nav-goal *base-pose-near-kitchen-island*)\n",
    "       (?looking-pose *downward-look-coordinate*)\n",
    "       (?drop-pose *object-delivery-pose*)\n",
    "       ?perceived-bottle)\n",
    "      \n",
    "      (setf ?perceived-bottle\n",
    "            (pick (an object (type bottle))\n",
    "                  *base-pose-near-table*\n",
    "                  *downward-look-coordinate*))\n",
    "               \n",
    "      \n",
    "      ;; Move the torso up so the robot can reach the higher surface better\n",
    "      ;; without crashing his arms into it.\n",
    "      (perform (a motion \n",
    "                  (type moving-torso)\n",
    "                  (joint-angle 0.3)))\n",
    "      ;; Go to the target delivery location\n",
    "      (perform (an action\n",
    "                   (type going)\n",
    "                   (target (a location\n",
    "                              (pose ?nav-goal)))))\n",
    "      ;; Place down the bottle\n",
    "      (perform (an action\n",
    "                   (type placing)\n",
    "                   (arm (right))\n",
    "                   ;; here we explicitly specify to put down the bottle\n",
    "                   ;; it's not necessary, but you can use this as a reference for the upcoming task\n",
    "                   (object ?perceived-bottle) \n",
    "                   (target (a location\n",
    "                              (pose ?drop-pose)))))\n",
    "            ;; Park arms\n",
    "      (perform (an action\n",
    "                   (type parking-arms)))))"
   ]
  },
  {
   "cell_type": "code",
   "execution_count": null,
   "id": "8f630e1a-cc21-4267-9537-bc6f6eb2fad4",
   "metadata": {},
   "outputs": [],
   "source": [
    ";; Reset the world\n",
    "(demo::initialize)\n",
    "\n",
    ";; Have all parameters we need in one place.\n",
    "(defparameter *bottle-spawn-pose* (make-pose \"map\" '(-2.323 -1 0.82) '(0 0 0)))\n",
    "(defparameter *base-pose-near-table* (make-pose \"map\" '(-2.2 -0.2 0.0) '(0.0 0.0 (* pi -0.5))))\n",
    "(defparameter *downward-look-coordinate* (make-pose \"base_footprint\" '(0.7 0.0 1.0) '(0 0 0)))\n",
    "(defparameter *object-delivery-pose* (make-pose \"map\" '(-0.8 2 0.9) '(0 0 0)))\n",
    "(defparameter *base-pose-near-kitchen-island* (make-pose \"map\" '(-0.15 2.0 0.0) '(0.0 0.0 pi)))\n",
    "\n",
    ";; Spawn the bottle\n",
    "(btr-utils:spawn-object 'bottle-1 :bottle :pose *bottle-spawn-pose*)\n",
    "\n",
    "(urdf-proj:with-simulated-robot\n",
    " ;; Go to the table where the bottle stands\n",
    " (let ((?navigation-goal *base-pose-near-table*))\n",
    "      (perform (an action\n",
    "                 (type going)\n",
    "                 (target (a location \n",
    "                            (pose ?navigation-goal))))))\n",
    " ;; Look down at the bottle\n",
    " (let ((?looking-direction *downward-look-coordinate*))\n",
    "      (perform (an action\n",
    "                   (type looking)\n",
    "                   (target (a location \n",
    "                              (pose ?looking-direction))))))\n",
    " ;; Detect the bottle and keep the object designator in ?perceived-bottle\n",
    " ;; so we can use it later\n",
    " (let ((?nav-goal *base-pose-near-kitchen-island*)\n",
    "       (?drop-pose *object-delivery-pose*)\n",
    "       (?perceived-bottle (perform (an action\n",
    "                                       (type detecting)\n",
    "                                       (object (an object\n",
    "                                                   (type bottle)))))))\n",
    "      ;; Pick up the detected bottle\n",
    "      (perform (an action\n",
    "                   (type picking-up)\n",
    "                   (arm (right))\n",
    "                   (object ?perceived-bottle)))\n",
    "      ;; Park arms\n",
    "      (perform (an action\n",
    "                   (type parking-arms)))\n",
    "      ;; Move the torso up so the robot can reach the higher surface better\n",
    "      ;; without crashing his arms into it.\n",
    "      (perform (a motion \n",
    "                  (type moving-torso)\n",
    "                  (joint-angle 0.3)))\n",
    "      ;; Go to the target delivery location\n",
    "      (perform (an action\n",
    "                   (type going)\n",
    "                   (target (a location\n",
    "                              (pose ?nav-goal)))))\n",
    "      ;; Place down the bottle\n",
    "      (perform (an action\n",
    "                   (type placing)\n",
    "                   (arm (right))\n",
    "                   ;; here we explicitly specify to put down the bottle\n",
    "                   ;; it's not necessary, but you can use this as a reference for the upcoming task\n",
    "                   (object ?perceived-bottle) \n",
    "                   (target (a location\n",
    "                              (pose ?drop-pose)))))\n",
    "            ;; Park arms\n",
    "      (perform (an action\n",
    "                   (type parking-arms)))))"
   ]
  }
 ],
 "metadata": {
  "kernelspec": {
   "display_name": "Common Lisp",
   "language": "common-lisp",
   "name": "common-lisp"
  },
  "language_info": {
   "codemirror_mode": "text/x-common-lisp",
   "file_extension": ".lisp",
   "mimetype": "text/x-common-lisp",
   "name": "common-lisp",
   "pygments_lexer": "common-lisp",
   "version": "2.0.1.debian"
  }
 },
 "nbformat": 4,
 "nbformat_minor": 5
}
